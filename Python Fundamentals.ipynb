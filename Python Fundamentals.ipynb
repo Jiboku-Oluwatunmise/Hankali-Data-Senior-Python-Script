{
 "cells": [
  {
   "cell_type": "markdown",
   "id": "756c8697",
   "metadata": {},
   "source": [
    "# Types in Python"
   ]
  },
  {
   "cell_type": "markdown",
   "id": "00ff5996",
   "metadata": {},
   "source": [
    "#### Numeric Types"
   ]
  },
  {
   "cell_type": "markdown",
   "id": "816dda66",
   "metadata": {},
   "source": [
    "##### Interger & Float"
   ]
  },
  {
   "cell_type": "code",
   "execution_count": 5,
   "id": "c818109a",
   "metadata": {},
   "outputs": [
    {
     "name": "stdout",
     "output_type": "stream",
     "text": [
      "5\n"
     ]
    }
   ],
   "source": [
    "int1 = 5\n",
    "int1\n",
    "\n",
    "print(int1)"
   ]
  },
  {
   "cell_type": "code",
   "execution_count": 6,
   "id": "ebb2e0f9",
   "metadata": {},
   "outputs": [
    {
     "name": "stdout",
     "output_type": "stream",
     "text": [
      "10\n"
     ]
    }
   ],
   "source": [
    "int2 = 10\n",
    "print(int2)"
   ]
  },
  {
   "cell_type": "code",
   "execution_count": 7,
   "id": "42d185f4",
   "metadata": {},
   "outputs": [
    {
     "name": "stdout",
     "output_type": "stream",
     "text": [
      "2000\n"
     ]
    }
   ],
   "source": [
    "int3 = 2000\n",
    "print(int3)"
   ]
  },
  {
   "cell_type": "code",
   "execution_count": 8,
   "id": "c476ed93",
   "metadata": {},
   "outputs": [
    {
     "name": "stdout",
     "output_type": "stream",
     "text": [
      "0.5\n"
     ]
    }
   ],
   "source": [
    "float1 = 0.5\n",
    "\n",
    "print(float1)"
   ]
  },
  {
   "cell_type": "code",
   "execution_count": 10,
   "id": "32dffdc5",
   "metadata": {},
   "outputs": [
    {
     "name": "stdout",
     "output_type": "stream",
     "text": [
      "100.555\n"
     ]
    }
   ],
   "source": [
    "float2 = 100.555\n",
    "print(float2)"
   ]
  },
  {
   "cell_type": "code",
   "execution_count": 13,
   "id": "bbf6680f",
   "metadata": {},
   "outputs": [
    {
     "data": {
      "text/plain": [
       "int"
      ]
     },
     "execution_count": 13,
     "metadata": {},
     "output_type": "execute_result"
    }
   ],
   "source": [
    "# what is the data type\n",
    "\n",
    "type(int2)"
   ]
  },
  {
   "cell_type": "code",
   "execution_count": 14,
   "id": "58044906",
   "metadata": {},
   "outputs": [
    {
     "name": "stdout",
     "output_type": "stream",
     "text": [
      "2000.0\n"
     ]
    }
   ],
   "source": [
    "int_to_float = float(int3)\n",
    "\n",
    "print(int_to_float)\n"
   ]
  },
  {
   "cell_type": "code",
   "execution_count": 15,
   "id": "6c4d7b92",
   "metadata": {},
   "outputs": [
    {
     "data": {
      "text/plain": [
       "float"
      ]
     },
     "execution_count": 15,
     "metadata": {},
     "output_type": "execute_result"
    }
   ],
   "source": [
    "type(int_to_float)"
   ]
  },
  {
   "cell_type": "code",
   "execution_count": 17,
   "id": "d62ce744",
   "metadata": {},
   "outputs": [
    {
     "name": "stdout",
     "output_type": "stream",
     "text": [
      "100\n"
     ]
    }
   ],
   "source": [
    "float_to_int = int(float2)\n",
    "\n",
    "print(float_to_int)"
   ]
  },
  {
   "cell_type": "markdown",
   "id": "1c29daef",
   "metadata": {},
   "source": [
    "#### Sequence Types"
   ]
  },
  {
   "cell_type": "markdown",
   "id": "7f9daf4d",
   "metadata": {},
   "source": [
    "##### Lists"
   ]
  },
  {
   "cell_type": "code",
   "execution_count": 18,
   "id": "32c74237",
   "metadata": {},
   "outputs": [
    {
     "data": {
      "text/plain": [
       "[1, 2, 3, 5, 10]"
      ]
     },
     "execution_count": 18,
     "metadata": {},
     "output_type": "execute_result"
    }
   ],
   "source": [
    "a = [1,2,3,5,10]\n",
    "\n",
    "a\n"
   ]
  },
  {
   "cell_type": "code",
   "execution_count": 19,
   "id": "ad7fd3b2",
   "metadata": {},
   "outputs": [],
   "source": [
    "b = [8, 9, 10, 20]"
   ]
  },
  {
   "cell_type": "code",
   "execution_count": 21,
   "id": "28dd8972",
   "metadata": {},
   "outputs": [
    {
     "name": "stdout",
     "output_type": "stream",
     "text": [
      "[1, 'two', 3, 'four']\n"
     ]
    }
   ],
   "source": [
    "c = [1, 'two', 3, 'four']\n",
    "\n",
    "print(c)"
   ]
  },
  {
   "cell_type": "code",
   "execution_count": 24,
   "id": "9b913ff0",
   "metadata": {},
   "outputs": [
    {
     "name": "stdout",
     "output_type": "stream",
     "text": [
      "[1, 2, 3, 5, 10, 4, 6]\n"
     ]
    }
   ],
   "source": [
    "a.append(6)\n",
    "\n",
    "print(a)"
   ]
  },
  {
   "cell_type": "code",
   "execution_count": 28,
   "id": "7ed46db2",
   "metadata": {},
   "outputs": [
    {
     "ename": "TypeError",
     "evalue": "'<' not supported between instances of 'list' and 'int'",
     "output_type": "error",
     "traceback": [
      "\u001b[1;31m---------------------------------------------------------------------------\u001b[0m",
      "\u001b[1;31mTypeError\u001b[0m                                 Traceback (most recent call last)",
      "Cell \u001b[1;32mIn[28], line 1\u001b[0m\n\u001b[1;32m----> 1\u001b[0m a\u001b[38;5;241m.\u001b[39msort()\n\u001b[0;32m      3\u001b[0m \u001b[38;5;28mprint\u001b[39m(a)\n",
      "\u001b[1;31mTypeError\u001b[0m: '<' not supported between instances of 'list' and 'int'"
     ]
    }
   ],
   "source": [
    "a.sort()\n",
    "\n",
    "print(a)"
   ]
  },
  {
   "cell_type": "code",
   "execution_count": 26,
   "id": "3ef6b84a",
   "metadata": {},
   "outputs": [
    {
     "name": "stdout",
     "output_type": "stream",
     "text": [
      "[10, 6, 5, 4, 3, 2, 1]\n"
     ]
    }
   ],
   "source": [
    "a.reverse()\n",
    "\n",
    "print(a)"
   ]
  },
  {
   "cell_type": "code",
   "execution_count": 27,
   "id": "4343e7f9",
   "metadata": {},
   "outputs": [
    {
     "name": "stdout",
     "output_type": "stream",
     "text": [
      "[10, 6, 5, 4, 3, 2, 1, [8, 9, 10, 20]]\n"
     ]
    }
   ],
   "source": [
    "a.append(b)\n",
    "\n",
    "print(a)"
   ]
  },
  {
   "cell_type": "code",
   "execution_count": 29,
   "id": "a2161d86",
   "metadata": {},
   "outputs": [
    {
     "data": {
      "text/plain": [
       "[[8, 9, 10, 20], 1, 2, 3, 4, 5, 6, 10]"
      ]
     },
     "execution_count": 29,
     "metadata": {},
     "output_type": "execute_result"
    }
   ],
   "source": [
    "a.reverse()\n",
    "a"
   ]
  },
  {
   "cell_type": "code",
   "execution_count": 38,
   "id": "e38b31b1",
   "metadata": {},
   "outputs": [
    {
     "name": "stdout",
     "output_type": "stream",
     "text": [
      "None\n"
     ]
    }
   ],
   "source": [
    "d = a.extend(a)\n",
    "\n",
    "print(d)"
   ]
  },
  {
   "cell_type": "code",
   "execution_count": 34,
   "id": "89dc96ff",
   "metadata": {},
   "outputs": [
    {
     "data": {
      "text/plain": [
       "[[8, 9, 10, 20],\n",
       " 1,\n",
       " 2,\n",
       " 3,\n",
       " 4,\n",
       " 5,\n",
       " 6,\n",
       " 10,\n",
       " 1,\n",
       " 'two',\n",
       " 3,\n",
       " 'four',\n",
       " 1,\n",
       " 'two',\n",
       " 3,\n",
       " 'four',\n",
       " 1,\n",
       " 'two',\n",
       " 3,\n",
       " 'four',\n",
       " 1,\n",
       " 'two',\n",
       " 3,\n",
       " 'four',\n",
       " 1,\n",
       " 'two',\n",
       " 3,\n",
       " 'four']"
      ]
     },
     "execution_count": 34,
     "metadata": {},
     "output_type": "execute_result"
    }
   ],
   "source": [
    "a.extend(c)\n",
    "\n",
    "a\n"
   ]
  },
  {
   "cell_type": "markdown",
   "id": "a48391fb",
   "metadata": {},
   "source": [
    "##### Tuples"
   ]
  },
  {
   "cell_type": "code",
   "execution_count": 47,
   "id": "ef721c86",
   "metadata": {},
   "outputs": [
    {
     "name": "stdout",
     "output_type": "stream",
     "text": [
      "(1, 'two', 3, 'four')\n",
      "[1, 'two', 3, 'four']\n"
     ]
    }
   ],
   "source": [
    "#basic example\n",
    "\n",
    "e = tuple(c)\n",
    "\n",
    "f = tuple(b)\n",
    "\n",
    "print(e)\n",
    "\n",
    "print (c)"
   ]
  },
  {
   "cell_type": "code",
   "execution_count": 42,
   "id": "b3caed8f",
   "metadata": {},
   "outputs": [
    {
     "data": {
      "text/plain": [
       "list"
      ]
     },
     "execution_count": 42,
     "metadata": {},
     "output_type": "execute_result"
    }
   ],
   "source": [
    "type(c)"
   ]
  },
  {
   "cell_type": "code",
   "execution_count": 45,
   "id": "7bf6c86c",
   "metadata": {},
   "outputs": [
    {
     "name": "stdout",
     "output_type": "stream",
     "text": [
      "(1, 2, 3, 4)\n"
     ]
    }
   ],
   "source": [
    "ab = (1,2,3,4)\n",
    "print(ab)"
   ]
  },
  {
   "cell_type": "code",
   "execution_count": 48,
   "id": "f504fd28",
   "metadata": {},
   "outputs": [
    {
     "name": "stdout",
     "output_type": "stream",
     "text": [
      "(1, 2, 3, 4)\n",
      "(1, 2, 8, 9, 10, 20, 4)\n"
     ]
    }
   ],
   "source": [
    "# Start & Stop\n",
    "\n",
    "ab = (1,2,3,4)\n",
    "print(ab)\n",
    "\n",
    "abc = ab[:2] + f + ab[3:]\n",
    "print(abc)\n"
   ]
  },
  {
   "cell_type": "markdown",
   "id": "e4b503e5",
   "metadata": {},
   "source": [
    "#### Text Types"
   ]
  },
  {
   "cell_type": "markdown",
   "id": "470b2f1c",
   "metadata": {},
   "source": [
    "##### String"
   ]
  },
  {
   "cell_type": "code",
   "execution_count": 49,
   "id": "cb0c00b2",
   "metadata": {},
   "outputs": [
    {
     "data": {
      "text/plain": [
       "'Hello World'"
      ]
     },
     "execution_count": 49,
     "metadata": {},
     "output_type": "execute_result"
    }
   ],
   "source": [
    "# basic string\n",
    "\n",
    "'Hello World'"
   ]
  },
  {
   "cell_type": "code",
   "execution_count": 50,
   "id": "e4ee0080",
   "metadata": {},
   "outputs": [
    {
     "data": {
      "text/plain": [
       "'hello world'"
      ]
     },
     "execution_count": 50,
     "metadata": {},
     "output_type": "execute_result"
    }
   ],
   "source": [
    "\"hello world\""
   ]
  },
  {
   "cell_type": "code",
   "execution_count": 60,
   "id": "742f07f6",
   "metadata": {},
   "outputs": [
    {
     "name": "stdout",
     "output_type": "stream",
     "text": [
      "999\n",
      "This variable is a <class 'str'>\n"
     ]
    }
   ],
   "source": [
    "#Assining a variable to a string\n",
    "\n",
    "h = '999'\n",
    "h\n",
    "print(h)\n",
    "\n",
    "print ('This variable is a', type(h))"
   ]
  },
  {
   "cell_type": "code",
   "execution_count": 61,
   "id": "e67d8029",
   "metadata": {},
   "outputs": [
    {
     "data": {
      "text/plain": [
       "3"
      ]
     },
     "execution_count": 61,
     "metadata": {},
     "output_type": "execute_result"
    }
   ],
   "source": [
    "len(h)\n"
   ]
  },
  {
   "cell_type": "code",
   "execution_count": 62,
   "id": "e5a27605",
   "metadata": {},
   "outputs": [
    {
     "name": "stdout",
     "output_type": "stream",
     "text": [
      "The string 'abcdefgh' string is 8 characters long\n"
     ]
    }
   ],
   "source": [
    "s = 'abcdefgh'\n",
    "\n",
    "print(\"The string '%s' string is %d characters long\" %(s, len(s)))  "
   ]
  },
  {
   "cell_type": "code",
   "execution_count": 65,
   "id": "b10f26c3",
   "metadata": {},
   "outputs": [
    {
     "name": "stdout",
     "output_type": "stream",
     "text": [
      "The string 'abcdefgh' string is 8 characters long\n",
      "First character of abcdefgh is a\n",
      "Last character of abcdefgh is h\n",
      "The character of abcdefgh is g\n"
     ]
    }
   ],
   "source": [
    "# indexing \n",
    "\n",
    "s = 'abcdefgh'\n",
    "\n",
    "print(\"The string '%s' string is %d characters long\" %(s, len(s)))  \n",
    "print('First character of',s,'is',s[0]) \n",
    "print('Last character of',s,'is',s[7])\n",
    "print('The character of',s,'is',s[len(s)-2])"
   ]
  },
  {
   "cell_type": "code",
   "execution_count": 67,
   "id": "5f88462d",
   "metadata": {},
   "outputs": [
    {
     "name": "stdout",
     "output_type": "stream",
     "text": [
      "0 letters found\n",
      "0 letters found\n",
      "1 letters found\n",
      "2 letters found\n",
      "2 letters found\n",
      "2 letters found\n",
      "2 letters found\n",
      "2 letters found\n",
      "2 letters found\n",
      "3 letters found\n",
      "3 letters found\n",
      "4 letters found\n"
     ]
    }
   ],
   "source": [
    "#letters in string\n",
    "\n",
    "count = 0 \n",
    "for letter in 'Hello Worldl':\n",
    "    if(letter == 'l'):\n",
    "        count += 1\n",
    "    print (count,'letters found')\n"
   ]
  },
  {
   "cell_type": "markdown",
   "id": "0d91a0eb",
   "metadata": {},
   "source": [
    "#### Mapping Types"
   ]
  },
  {
   "cell_type": "markdown",
   "id": "f4c803be",
   "metadata": {},
   "source": [
    "##### Dict"
   ]
  },
  {
   "cell_type": "code",
   "execution_count": 10,
   "id": "08dd239a",
   "metadata": {},
   "outputs": [
    {
     "data": {
      "text/plain": [
       "{1: 'Python', 2: 'Java', 100: 'C++'}"
      ]
     },
     "execution_count": 10,
     "metadata": {},
     "output_type": "execute_result"
    }
   ],
   "source": [
    "#empty integer keys\n",
    "\n",
    "dict = {1: \"Python\", 2:'Java', 100:'C++'} \n",
    "dict"
   ]
  },
  {
   "cell_type": "code",
   "execution_count": 2,
   "id": "adbc2478",
   "metadata": {},
   "outputs": [
    {
     "data": {
      "text/plain": [
       "dict"
      ]
     },
     "execution_count": 2,
     "metadata": {},
     "output_type": "execute_result"
    }
   ],
   "source": [
    "type(dict)"
   ]
  },
  {
   "cell_type": "code",
   "execution_count": 9,
   "id": "aad60b79",
   "metadata": {},
   "outputs": [
    {
     "data": {
      "text/plain": [
       "{20: 'hi', 'name': 666, 1.5: ('yes', 'no'), 9: [1, 2, 3]}"
      ]
     },
     "execution_count": 9,
     "metadata": {},
     "output_type": "execute_result"
    }
   ],
   "source": [
    "# dictionary with mixed keys\n",
    "\n",
    "my_dict2 = {20:\"hi\",\"name\":666, 1.5:(\"yes\",\"no\"), 9:[1,2,3]}\n",
    "\n",
    "my_dict2"
   ]
  },
  {
   "cell_type": "code",
   "execution_count": 4,
   "id": "2923d879",
   "metadata": {},
   "outputs": [
    {
     "name": "stdout",
     "output_type": "stream",
     "text": [
      "4\n"
     ]
    }
   ],
   "source": [
    "# Count the total length of a dictionary\n",
    "\n",
    "print(len(my_dict2))"
   ]
  },
  {
   "cell_type": "code",
   "execution_count": 11,
   "id": "3821cec8",
   "metadata": {},
   "outputs": [
    {
     "data": {
      "text/plain": [
       "{1: 'Python',\n",
       " 2: 'Java',\n",
       " 100: 'C++',\n",
       " 20: 'hi',\n",
       " 'name': 666,\n",
       " 1.5: ('yes', 'no'),\n",
       " 9: [1, 2, 3]}"
      ]
     },
     "execution_count": 11,
     "metadata": {},
     "output_type": "execute_result"
    }
   ],
   "source": [
    "# Update a dict\n",
    "\n",
    "dict.update(my_dict2)\n",
    "\n",
    "dict"
   ]
  },
  {
   "cell_type": "code",
   "execution_count": 12,
   "id": "79c2e25b",
   "metadata": {},
   "outputs": [
    {
     "data": {
      "text/plain": [
       "{}"
      ]
     },
     "execution_count": 12,
     "metadata": {},
     "output_type": "execute_result"
    }
   ],
   "source": [
    "# delete a dict\n",
    "\n",
    "my_dict2\n",
    "\n",
    "my_dict2.clear()\n",
    "\n",
    "my_dict2"
   ]
  },
  {
   "cell_type": "markdown",
   "id": "e94d238e",
   "metadata": {},
   "source": [
    "#### Sets Types"
   ]
  },
  {
   "cell_type": "markdown",
   "id": "36c6381a",
   "metadata": {},
   "source": [
    "##### Sets"
   ]
  },
  {
   "cell_type": "code",
   "execution_count": 16,
   "id": "63e46ff7",
   "metadata": {},
   "outputs": [
    {
     "name": "stdout",
     "output_type": "stream",
     "text": [
      "{1, 2, 3, 5, 7}\n",
      "{1.0, 'Hello', (1, 2, 3)}\n"
     ]
    }
   ],
   "source": [
    "#basics\n",
    "\n",
    "# set of integers\n",
    "e = {5, 7, 1, 2, 3}            \n",
    "print(e)  \n",
    "\n",
    "# set of mixed datatypes\n",
    "f = {1.0, \"Hello\",\"Hello\", 1.0, (1, 2, 3), (1, 2, 3)}  \n",
    "print(f)   \n"
   ]
  },
  {
   "cell_type": "code",
   "execution_count": 17,
   "id": "9c55698f",
   "metadata": {},
   "outputs": [
    {
     "data": {
      "text/plain": [
       "{1, 2, 3, 4, 5, 6}"
      ]
     },
     "execution_count": 17,
     "metadata": {},
     "output_type": "execute_result"
    }
   ],
   "source": [
    "# No duplicates \n",
    "\n",
    "g = {1,1,2,2,2,3,4,5,6}\n",
    "\n",
    "g"
   ]
  },
  {
   "cell_type": "code",
   "execution_count": 18,
   "id": "f865ebfc",
   "metadata": {},
   "outputs": [
    {
     "data": {
      "text/plain": [
       "{0.5, 1, 2, 3, 4, 5, 6}"
      ]
     },
     "execution_count": 18,
     "metadata": {},
     "output_type": "execute_result"
    }
   ],
   "source": [
    "# adding a variable\n",
    "\n",
    "g.add(0.5)\n",
    "\n",
    "g"
   ]
  },
  {
   "cell_type": "code",
   "execution_count": 20,
   "id": "c3fde8c4",
   "metadata": {},
   "outputs": [
    {
     "data": {
      "text/plain": [
       "{(1, 2, 3), 0.5, 1, 2, 3, 4, 5, 6, 7, 'Hello'}"
      ]
     },
     "execution_count": 20,
     "metadata": {},
     "output_type": "execute_result"
    }
   ],
   "source": [
    "# update a variable\n",
    "\n",
    "g.update (f)\n",
    "\n",
    "g"
   ]
  },
  {
   "cell_type": "code",
   "execution_count": 22,
   "id": "0a8145f0",
   "metadata": {},
   "outputs": [
    {
     "name": "stdout",
     "output_type": "stream",
     "text": [
      "{0.5, 1, 2, 3, 4, 5, 6, 7, (1, 2, 3)}\n"
     ]
    }
   ],
   "source": [
    "g.discard(\"Hello\")\n",
    "print(g)  "
   ]
  },
  {
   "cell_type": "markdown",
   "id": "d9f3041f",
   "metadata": {},
   "source": [
    "#### Boolean Types"
   ]
  },
  {
   "cell_type": "markdown",
   "id": "1fd7cd4f",
   "metadata": {},
   "source": [
    "##### Boolean"
   ]
  },
  {
   "cell_type": "code",
   "execution_count": 25,
   "id": "8d9a5e8c",
   "metadata": {},
   "outputs": [
    {
     "data": {
      "text/plain": [
       "'False'"
      ]
     },
     "execution_count": 25,
     "metadata": {},
     "output_type": "execute_result"
    }
   ],
   "source": [
    "# Using Booleans\n",
    "\n",
    "a = 10\n",
    "\n",
    "x = \"True\" if a == 9 else \"False\"\n",
    "\n",
    "x"
   ]
  },
  {
   "cell_type": "code",
   "execution_count": 34,
   "id": "7695f29e",
   "metadata": {},
   "outputs": [
    {
     "name": "stdout",
     "output_type": "stream",
     "text": [
      "False\n"
     ]
    }
   ],
   "source": [
    "a = True\n",
    "b = False \n",
    "print(a and b)"
   ]
  },
  {
   "cell_type": "markdown",
   "id": "1ceadb5d",
   "metadata": {},
   "source": [
    "# Operators in Python"
   ]
  },
  {
   "cell_type": "markdown",
   "id": "139b86b6",
   "metadata": {},
   "source": [
    "#### Arithmetic operators"
   ]
  },
  {
   "cell_type": "code",
   "execution_count": 35,
   "id": "2b9167a7",
   "metadata": {},
   "outputs": [
    {
     "data": {
      "text/plain": [
       "15.5"
      ]
     },
     "execution_count": 35,
     "metadata": {},
     "output_type": "execute_result"
    }
   ],
   "source": [
    "# Addition\n",
    "\n",
    "i = 10\n",
    "j = 5.5\n",
    "\n",
    "i + j"
   ]
  },
  {
   "cell_type": "code",
   "execution_count": 36,
   "id": "9be60723",
   "metadata": {},
   "outputs": [
    {
     "data": {
      "text/plain": [
       "44.0"
      ]
     },
     "execution_count": 36,
     "metadata": {},
     "output_type": "execute_result"
    }
   ],
   "source": [
    "# Multiplication\n",
    "\n",
    "8 * j"
   ]
  },
  {
   "cell_type": "code",
   "execution_count": 37,
   "id": "b0336817",
   "metadata": {},
   "outputs": [
    {
     "data": {
      "text/plain": [
       "55.0"
      ]
     },
     "execution_count": 37,
     "metadata": {},
     "output_type": "execute_result"
    }
   ],
   "source": [
    "\n",
    "i * j"
   ]
  },
  {
   "cell_type": "code",
   "execution_count": 38,
   "id": "f1b8aa93",
   "metadata": {},
   "outputs": [
    {
     "data": {
      "text/plain": [
       "1.8181818181818181"
      ]
     },
     "execution_count": 38,
     "metadata": {},
     "output_type": "execute_result"
    }
   ],
   "source": [
    "# Division\n",
    "\n",
    "i/j"
   ]
  },
  {
   "cell_type": "code",
   "execution_count": 39,
   "id": "36c8b8ea",
   "metadata": {},
   "outputs": [
    {
     "data": {
      "text/plain": [
       "1.1"
      ]
     },
     "execution_count": 39,
     "metadata": {},
     "output_type": "execute_result"
    }
   ],
   "source": [
    "j/5\n"
   ]
  },
  {
   "cell_type": "code",
   "execution_count": 40,
   "id": "41d284b0",
   "metadata": {},
   "outputs": [
    {
     "data": {
      "text/plain": [
       "-4.5"
      ]
     },
     "execution_count": 40,
     "metadata": {},
     "output_type": "execute_result"
    }
   ],
   "source": [
    "# Subtraction\n",
    "\n",
    "j - i\n"
   ]
  },
  {
   "cell_type": "code",
   "execution_count": 42,
   "id": "d095b5ed",
   "metadata": {},
   "outputs": [
    {
     "data": {
      "text/plain": [
       "1.0"
      ]
     },
     "execution_count": 42,
     "metadata": {},
     "output_type": "execute_result"
    }
   ],
   "source": [
    "# Floor Division\n",
    "\n",
    "i // j"
   ]
  },
  {
   "cell_type": "code",
   "execution_count": 43,
   "id": "11365275",
   "metadata": {},
   "outputs": [
    {
     "data": {
      "text/plain": [
       "5.5"
      ]
     },
     "execution_count": 43,
     "metadata": {},
     "output_type": "execute_result"
    }
   ],
   "source": [
    "#  Modulo\n",
    "\n",
    "j%i"
   ]
  },
  {
   "cell_type": "code",
   "execution_count": 44,
   "id": "4fe58f00",
   "metadata": {},
   "outputs": [
    {
     "data": {
      "text/plain": [
       "100"
      ]
     },
     "execution_count": 44,
     "metadata": {},
     "output_type": "execute_result"
    }
   ],
   "source": [
    "#  Exponentiation\n",
    "\n",
    "i ** 2"
   ]
  },
  {
   "cell_type": "markdown",
   "id": "152e7061",
   "metadata": {},
   "source": [
    "#### Comparison operators"
   ]
  },
  {
   "cell_type": "code",
   "execution_count": 45,
   "id": "c935c05e",
   "metadata": {},
   "outputs": [
    {
     "name": "stdout",
     "output_type": "stream",
     "text": [
      "i > j is True\n"
     ]
    }
   ],
   "source": [
    "print('i > j is',i>j)"
   ]
  },
  {
   "cell_type": "code",
   "execution_count": 46,
   "id": "735861ce",
   "metadata": {},
   "outputs": [
    {
     "data": {
      "text/plain": [
       "False"
      ]
     },
     "execution_count": 46,
     "metadata": {},
     "output_type": "execute_result"
    }
   ],
   "source": [
    "i == j"
   ]
  },
  {
   "cell_type": "code",
   "execution_count": 47,
   "id": "ef4235b6",
   "metadata": {},
   "outputs": [
    {
     "data": {
      "text/plain": [
       "False"
      ]
     },
     "execution_count": 47,
     "metadata": {},
     "output_type": "execute_result"
    }
   ],
   "source": [
    "i < j "
   ]
  },
  {
   "cell_type": "markdown",
   "id": "3904d1b8",
   "metadata": {},
   "source": [
    "#### Logical operators"
   ]
  },
  {
   "cell_type": "code",
   "execution_count": 48,
   "id": "ba39f2b5",
   "metadata": {},
   "outputs": [
    {
     "name": "stdout",
     "output_type": "stream",
     "text": [
      "j is not 10 is True\n"
     ]
    },
    {
     "name": "stderr",
     "output_type": "stream",
     "text": [
      "<>:1: SyntaxWarning: \"is not\" with a literal. Did you mean \"!=\"?\n",
      "<>:1: SyntaxWarning: \"is not\" with a literal. Did you mean \"!=\"?\n",
      "C:\\Users\\HP\\AppData\\Local\\Temp\\ipykernel_18720\\1814503997.py:1: SyntaxWarning: \"is not\" with a literal. Did you mean \"!=\"?\n",
      "  print('j is not 10 is', j is not 10)\n"
     ]
    }
   ],
   "source": [
    "print('j is not 10 is', j is not 10)   "
   ]
  },
  {
   "cell_type": "code",
   "execution_count": 50,
   "id": "72b2570d",
   "metadata": {},
   "outputs": [
    {
     "name": "stdout",
     "output_type": "stream",
     "text": [
      "j and i is 5.5\n"
     ]
    }
   ],
   "source": [
    "print ('j and i is', j or i > 10)"
   ]
  },
  {
   "cell_type": "code",
   "execution_count": 51,
   "id": "1df997c5",
   "metadata": {},
   "outputs": [
    {
     "name": "stdout",
     "output_type": "stream",
     "text": [
      "1 is not 2 True\n"
     ]
    },
    {
     "name": "stderr",
     "output_type": "stream",
     "text": [
      "<>:1: SyntaxWarning: \"is not\" with a literal. Did you mean \"!=\"?\n",
      "<>:1: SyntaxWarning: \"is not\" with a literal. Did you mean \"!=\"?\n",
      "C:\\Users\\HP\\AppData\\Local\\Temp\\ipykernel_18720\\2135092354.py:1: SyntaxWarning: \"is not\" with a literal. Did you mean \"!=\"?\n",
      "  print ('1 is not 2', 1 is not 2)\n"
     ]
    }
   ],
   "source": [
    "print ('1 is not 2', 1 is not 2)"
   ]
  },
  {
   "cell_type": "markdown",
   "id": "5faa048e",
   "metadata": {},
   "source": [
    "#### Assignment operators"
   ]
  },
  {
   "cell_type": "code",
   "execution_count": 52,
   "id": "28ea25fe",
   "metadata": {},
   "outputs": [
    {
     "data": {
      "text/plain": [
       "123"
      ]
     },
     "execution_count": 52,
     "metadata": {},
     "output_type": "execute_result"
    }
   ],
   "source": [
    "x = 123\n",
    "x"
   ]
  },
  {
   "cell_type": "code",
   "execution_count": 56,
   "id": "94515948",
   "metadata": {},
   "outputs": [
    {
     "data": {
      "text/plain": [
       "16"
      ]
     },
     "execution_count": 56,
     "metadata": {},
     "output_type": "execute_result"
    }
   ],
   "source": [
    "a += 5\n",
    "\n",
    "a"
   ]
  },
  {
   "cell_type": "code",
   "execution_count": 60,
   "id": "f5b553e4",
   "metadata": {},
   "outputs": [],
   "source": [
    "a = 1"
   ]
  },
  {
   "cell_type": "code",
   "execution_count": 62,
   "id": "eac9881d",
   "metadata": {},
   "outputs": [
    {
     "data": {
      "text/plain": [
       "25"
      ]
     },
     "execution_count": 62,
     "metadata": {},
     "output_type": "execute_result"
    }
   ],
   "source": [
    "a *= 5\n",
    "a"
   ]
  },
  {
   "cell_type": "markdown",
   "id": "993b3c66",
   "metadata": {},
   "source": [
    "# Interactive Scripting"
   ]
  },
  {
   "cell_type": "code",
   "execution_count": 64,
   "id": "48dd14d4",
   "metadata": {},
   "outputs": [
    {
     "name": "stdout",
     "output_type": "stream",
     "text": [
      "Enter Hours:2\n",
      "Rate per Hour:50\n",
      "Your daily earnings is 100.0\n"
     ]
    }
   ],
   "source": [
    "# Calculate pay of the person\n",
    "\n",
    "a = float(input(\"Enter Hours:\"))\n",
    "b = float(input(\"Rate per Hour:\"))\n",
    "\n",
    "v = a * b\n",
    "\n",
    "print (\"Your daily earnings is\", v)"
   ]
  },
  {
   "cell_type": "code",
   "execution_count": 65,
   "id": "adf531ca",
   "metadata": {},
   "outputs": [
    {
     "name": "stdout",
     "output_type": "stream",
     "text": [
      "Enter the number of years you lived:10\n",
      "You have lived for 315360000.0  seconds\n"
     ]
    }
   ],
   "source": [
    "a = float(input(\"Enter the number of years you lived:\"))\n",
    "\n",
    "lived = a * 31536000\n",
    "\n",
    "print (\"You have lived for\", lived, ' seconds')"
   ]
  },
  {
   "cell_type": "markdown",
   "id": "d4dcdcbf",
   "metadata": {},
   "source": [
    "## Looping\n",
    "\n"
   ]
  },
  {
   "cell_type": "markdown",
   "id": "2bcfba69",
   "metadata": {},
   "source": [
    "A loop allows us to repeat a piece of code multiple times."
   ]
  },
  {
   "cell_type": "code",
   "execution_count": 67,
   "id": "cf8a9e8e",
   "metadata": {},
   "outputs": [
    {
     "name": "stdout",
     "output_type": "stream",
     "text": [
      "1\n",
      "2\n",
      "3\n",
      "4\n",
      "5\n",
      "6\n"
     ]
    }
   ],
   "source": [
    "## for loops\n",
    "\n",
    "for i in range (1, 7):\n",
    "    print (i)"
   ]
  },
  {
   "cell_type": "code",
   "execution_count": 68,
   "id": "637af76e",
   "metadata": {},
   "outputs": [
    {
     "name": "stdout",
     "output_type": "stream",
     "text": [
      "Enter the number:9\n",
      "Number is 1, it does not match the criteria: 8\n",
      "Number is 3, it does not match the criteria: 8\n",
      "Number is 5, it does not match the criteria: 8\n",
      "Found!\n",
      "Number is 7, it does not match the criteria: 8\n"
     ]
    }
   ],
   "source": [
    "numlist = [1, 3, 5, 8, 7] \n",
    "search_for = 8\n",
    "num = str(input(\"Enter the number:\"))\n",
    "\n",
    "\n",
    "for num in numlist: \n",
    "    if num == search_for: \n",
    "        print(\"Found!\")\n",
    "    else:\n",
    "        print(f\"Number is {num}, it does not match the criteria: {search_for}\")\n",
    "    "
   ]
  },
  {
   "cell_type": "code",
   "execution_count": 71,
   "id": "10c99acb",
   "metadata": {},
   "outputs": [
    {
     "name": "stdout",
     "output_type": "stream",
     "text": [
      "1\n",
      "2\n",
      "3\n",
      "4\n",
      "5\n",
      "6\n",
      "7\n",
      "8\n",
      "9\n",
      "10\n",
      "11\n",
      "12\n",
      "13\n",
      "14\n",
      "15\n",
      "16\n",
      "17\n",
      "18\n",
      "19\n",
      "20\n",
      "21\n",
      "22\n",
      "23\n",
      "24\n",
      "25\n",
      "26\n",
      "27\n",
      "28\n",
      "29\n",
      "30\n",
      "31\n",
      "32\n",
      "33\n",
      "34\n",
      "35\n",
      "36\n",
      "37\n",
      "38\n",
      "39\n",
      "40\n",
      "41\n",
      "42\n",
      "43\n",
      "44\n",
      "45\n",
      "46\n",
      "47\n",
      "48\n",
      "49\n",
      "50\n",
      "51\n",
      "52\n",
      "53\n",
      "54\n",
      "55\n",
      "56\n",
      "57\n",
      "58\n",
      "59\n",
      "60\n",
      "61\n",
      "62\n",
      "63\n",
      "64\n",
      "65\n",
      "66\n",
      "67\n",
      "68\n",
      "69\n",
      "70\n",
      "71\n",
      "72\n",
      "73\n",
      "74\n",
      "75\n",
      "76\n",
      "77\n",
      "78\n",
      "79\n",
      "80\n",
      "81\n",
      "82\n",
      "83\n",
      "84\n",
      "85\n",
      "86\n",
      "87\n",
      "88\n",
      "89\n",
      "90\n",
      "91\n",
      "92\n",
      "93\n",
      "94\n",
      "95\n",
      "96\n",
      "97\n",
      "98\n",
      "99\n",
      "100\n"
     ]
    }
   ],
   "source": [
    "# while looping\n",
    "\n",
    "count = 1\n",
    "while count <= 100:\n",
    "    print(count)\n",
    "    count += 1  "
   ]
  },
  {
   "cell_type": "markdown",
   "id": "0ed06c09",
   "metadata": {},
   "source": [
    "#### Interactive Looping"
   ]
  },
  {
   "cell_type": "code",
   "execution_count": 73,
   "id": "08fc8d27",
   "metadata": {},
   "outputs": [],
   "source": [
    "import random as r"
   ]
  },
  {
   "cell_type": "code",
   "execution_count": 75,
   "id": "43c96e71",
   "metadata": {},
   "outputs": [
    {
     "name": "stdout",
     "output_type": "stream",
     "text": [
      "Guess a number between 1 and 10: 5\n",
      "Lower!\n",
      "Guess a number between 1 and 10: and\n",
      "Please enter a valid number.\n",
      "Guess a number between 1 and 10: and\n",
      "Please enter a valid number.\n",
      "Guess a number between 1 and 10: 1000\n",
      "Lower!\n",
      "Guess a number between 1 and 10: 1\n",
      "Higher!\n",
      "Guess a number between 1 and 10: 2\n",
      "Amazing! You've found the number!\n"
     ]
    }
   ],
   "source": [
    "target = r.randint(1,10)\n",
    "\n",
    "\n",
    "while True:\n",
    "    guess = input(\"Guess a number between 1 and 10: \" )\n",
    "    if not guess.isdigit():\n",
    "        print(\"Please enter a valid number.\")\n",
    "        continue\n",
    "    guess = int(guess)\n",
    "    if guess < target:\n",
    "        print(\"Higher!\")\n",
    "    elif guess > target:\n",
    "        print(\"Lower!\")\n",
    "    else:\n",
    "        print(\"Amazing! You've found the number!\")\n",
    "        break "
   ]
  },
  {
   "cell_type": "code",
   "execution_count": null,
   "id": "b07ce95f",
   "metadata": {},
   "outputs": [],
   "source": [
    "---- END ----"
   ]
  }
 ],
 "metadata": {
  "kernelspec": {
   "display_name": "Python 3 (ipykernel)",
   "language": "python",
   "name": "python3"
  },
  "language_info": {
   "codemirror_mode": {
    "name": "ipython",
    "version": 3
   },
   "file_extension": ".py",
   "mimetype": "text/x-python",
   "name": "python",
   "nbconvert_exporter": "python",
   "pygments_lexer": "ipython3",
   "version": "3.11.7"
  }
 },
 "nbformat": 4,
 "nbformat_minor": 5
}
