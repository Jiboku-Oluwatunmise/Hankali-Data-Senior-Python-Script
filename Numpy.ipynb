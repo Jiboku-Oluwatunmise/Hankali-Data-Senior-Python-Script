{
 "cells": [
  {
   "cell_type": "markdown",
   "id": "f813949a",
   "metadata": {},
   "source": [
    "# Numpy\n",
    "\n",
    "\n",
    "NumPy is a powerful Python library used for numerical computing, especially for operations on large, multi-dimensional arrays and matrices. It provides a wide range of mathematical functions to perform complex calculations, including linear algebra, statistical, and Fourier analysis operations, with optimized speed and efficiency"
   ]
  },
  {
   "cell_type": "code",
   "execution_count": 2,
   "id": "cec9077c",
   "metadata": {},
   "outputs": [
    {
     "name": "stdout",
     "output_type": "stream",
     "text": [
      "Requirement already satisfied: numpy in c:\\users\\hp\\anaconda3\\lib\\site-packages (1.26.4)\n"
     ]
    }
   ],
   "source": [
    "!pip install numpy"
   ]
  },
  {
   "cell_type": "code",
   "execution_count": 3,
   "id": "46f70c89",
   "metadata": {},
   "outputs": [],
   "source": [
    "import numpy as np"
   ]
  },
  {
   "cell_type": "markdown",
   "id": "f61dec19",
   "metadata": {},
   "source": [
    "CRUD - Create, Read, Update, Delete. "
   ]
  },
  {
   "cell_type": "markdown",
   "id": "97f9d680",
   "metadata": {},
   "source": [
    "### Create"
   ]
  },
  {
   "cell_type": "code",
   "execution_count": 4,
   "id": "8b00e847",
   "metadata": {},
   "outputs": [
    {
     "data": {
      "text/plain": [
       "0.43220138366026606"
      ]
     },
     "execution_count": 4,
     "metadata": {},
     "output_type": "execute_result"
    }
   ],
   "source": [
    "a = np.random.rand()\n",
    "\n",
    "a"
   ]
  },
  {
   "cell_type": "code",
   "execution_count": 5,
   "id": "426641a6",
   "metadata": {},
   "outputs": [
    {
     "data": {
      "text/plain": [
       "array([0, 0, 0, 0, 0])"
      ]
     },
     "execution_count": 5,
     "metadata": {},
     "output_type": "execute_result"
    }
   ],
   "source": [
    "b = np.zeros(5, int)\n",
    "\n",
    "b"
   ]
  },
  {
   "cell_type": "code",
   "execution_count": 6,
   "id": "225123de",
   "metadata": {},
   "outputs": [
    {
     "data": {
      "text/plain": [
       "array([[[1., 1.],\n",
       "        [1., 1.]],\n",
       "\n",
       "       [[1., 1.],\n",
       "        [1., 1.]]])"
      ]
     },
     "execution_count": 6,
     "metadata": {},
     "output_type": "execute_result"
    }
   ],
   "source": [
    "c = np.ones((2,2,2))\n",
    "\n",
    "c"
   ]
  },
  {
   "cell_type": "code",
   "execution_count": 7,
   "id": "3ce11d16",
   "metadata": {},
   "outputs": [
    {
     "data": {
      "text/plain": [
       "array([[[7.46039125e-322, 0.00000000e+000],\n",
       "        [0.00000000e+000, 2.12199579e-314],\n",
       "        [0.00000000e+000, 4.99006302e-322],\n",
       "        [0.00000000e+000, 0.00000000e+000]],\n",
       "\n",
       "       [[6.36598737e-314, 2.12199579e-314],\n",
       "        [3.45845952e-322, 0.00000000e+000],\n",
       "        [0.00000000e+000, 6.36598737e-314],\n",
       "        [2.12199579e-314, 4.94065646e-322]],\n",
       "\n",
       "       [[0.00000000e+000, 0.00000000e+000],\n",
       "        [6.36598737e-314, 2.12199579e-314],\n",
       "        [4.10074486e-322, 0.00000000e+000],\n",
       "        [0.00000000e+000, 6.36598737e-314]],\n",
       "\n",
       "       [[2.12199579e-314, 0.00000000e+000],\n",
       "        [0.00000000e+000, 0.00000000e+000],\n",
       "        [0.00000000e+000, 0.00000000e+000],\n",
       "        [0.00000000e+000, 0.00000000e+000]],\n",
       "\n",
       "       [[0.00000000e+000, 0.00000000e+000],\n",
       "        [0.00000000e+000, 0.00000000e+000],\n",
       "        [0.00000000e+000, 0.00000000e+000],\n",
       "        [0.00000000e+000, 0.00000000e+000]],\n",
       "\n",
       "       [[0.00000000e+000, 0.00000000e+000],\n",
       "        [0.00000000e+000, 0.00000000e+000],\n",
       "        [0.00000000e+000, 0.00000000e+000],\n",
       "        [0.00000000e+000, 0.00000000e+000]],\n",
       "\n",
       "       [[0.00000000e+000, 0.00000000e+000],\n",
       "        [0.00000000e+000, 0.00000000e+000],\n",
       "        [0.00000000e+000, 0.00000000e+000],\n",
       "        [0.00000000e+000, 0.00000000e+000]],\n",
       "\n",
       "       [[0.00000000e+000, 0.00000000e+000],\n",
       "        [0.00000000e+000, 0.00000000e+000],\n",
       "        [0.00000000e+000, 0.00000000e+000],\n",
       "        [0.00000000e+000, 0.00000000e+000]],\n",
       "\n",
       "       [[0.00000000e+000, 0.00000000e+000],\n",
       "        [0.00000000e+000, 0.00000000e+000],\n",
       "        [0.00000000e+000, 0.00000000e+000],\n",
       "        [0.00000000e+000, 0.00000000e+000]],\n",
       "\n",
       "       [[0.00000000e+000, 0.00000000e+000],\n",
       "        [0.00000000e+000, 0.00000000e+000],\n",
       "        [0.00000000e+000, 0.00000000e+000],\n",
       "        [0.00000000e+000, 0.00000000e+000]]])"
      ]
     },
     "execution_count": 7,
     "metadata": {},
     "output_type": "execute_result"
    }
   ],
   "source": [
    "d = np.empty((10,4,2))\n",
    "\n",
    "d"
   ]
  },
  {
   "cell_type": "code",
   "execution_count": 8,
   "id": "ba5cb81a",
   "metadata": {},
   "outputs": [
    {
     "data": {
      "text/plain": [
       "array([0, 1, 2, 3, 4])"
      ]
     },
     "execution_count": 8,
     "metadata": {},
     "output_type": "execute_result"
    }
   ],
   "source": [
    "e = np.arange(5)\n",
    "\n",
    "e"
   ]
  },
  {
   "cell_type": "code",
   "execution_count": 9,
   "id": "2bc5c556",
   "metadata": {},
   "outputs": [
    {
     "data": {
      "text/plain": [
       "array([[[0.96569938, 0.04892599, 0.09476336, 0.65939737, 0.11224839],\n",
       "        [0.12254289, 0.99683439, 0.87048874, 0.75011009, 0.85576456],\n",
       "        [0.02538878, 0.5498957 , 0.35638938, 0.51882917, 0.52321017]],\n",
       "\n",
       "       [[0.86523497, 0.14491372, 0.52273944, 0.9294497 , 0.61506663],\n",
       "        [0.2008709 , 0.89814678, 0.06959926, 0.4559489 , 0.71578391],\n",
       "        [0.43960978, 0.11793794, 0.12036833, 0.52686436, 0.70369556]],\n",
       "\n",
       "       [[0.54074655, 0.09917762, 0.41904283, 0.5474296 , 0.93188769],\n",
       "        [0.39182778, 0.45045847, 0.85821924, 0.12053626, 0.32593499],\n",
       "        [0.48925806, 0.19268181, 0.16662824, 0.26735781, 0.18451476]]])"
      ]
     },
     "execution_count": 9,
     "metadata": {},
     "output_type": "execute_result"
    }
   ],
   "source": [
    "x = np.random.rand (3,3,5)\n",
    "\n",
    "x"
   ]
  },
  {
   "cell_type": "code",
   "execution_count": 10,
   "id": "28e0f7b7",
   "metadata": {},
   "outputs": [
    {
     "data": {
      "text/plain": [
       "array([[[ 1,  2,  3,  4,  5],\n",
       "        [ 6,  7,  8,  9, 10],\n",
       "        [11, 12, 13, 14, 15]],\n",
       "\n",
       "       [[16, 17, 18, 19, 20],\n",
       "        [21, 22, 23, 24, 25],\n",
       "        [26, 27, 28, 29, 30]],\n",
       "\n",
       "       [[31, 32, 33, 34, 35],\n",
       "        [36, 37, 38, 39, 40],\n",
       "        [41, 42, 43, 44, 45]]])"
      ]
     },
     "execution_count": 10,
     "metadata": {},
     "output_type": "execute_result"
    }
   ],
   "source": [
    "y = np.arange(1, 46).reshape(3, 3, 5)\n",
    "\n",
    "y"
   ]
  },
  {
   "cell_type": "code",
   "execution_count": 11,
   "id": "069fb887",
   "metadata": {},
   "outputs": [
    {
     "data": {
      "text/plain": [
       "array([1, 2, 3])"
      ]
     },
     "execution_count": 11,
     "metadata": {},
     "output_type": "execute_result"
    }
   ],
   "source": [
    "#  an array from an array\n",
    "\n",
    "z = e[1:4]\n",
    "\n",
    "z"
   ]
  },
  {
   "cell_type": "markdown",
   "id": "14ec1abd",
   "metadata": {},
   "source": [
    "### Read"
   ]
  },
  {
   "cell_type": "markdown",
   "id": "4d16c1e5",
   "metadata": {},
   "source": [
    "##### Attributes"
   ]
  },
  {
   "cell_type": "code",
   "execution_count": 12,
   "id": "622405c9",
   "metadata": {},
   "outputs": [
    {
     "data": {
      "text/plain": [
       "(3, 3, 5)"
      ]
     },
     "execution_count": 12,
     "metadata": {},
     "output_type": "execute_result"
    }
   ],
   "source": [
    "x.shape "
   ]
  },
  {
   "cell_type": "code",
   "execution_count": 13,
   "id": "3f8c9143",
   "metadata": {},
   "outputs": [
    {
     "data": {
      "text/plain": [
       "45"
      ]
     },
     "execution_count": 13,
     "metadata": {},
     "output_type": "execute_result"
    }
   ],
   "source": [
    "y.size"
   ]
  },
  {
   "cell_type": "code",
   "execution_count": 14,
   "id": "f1eaf495",
   "metadata": {},
   "outputs": [
    {
     "data": {
      "text/plain": [
       "dtype('float64')"
      ]
     },
     "execution_count": 14,
     "metadata": {},
     "output_type": "execute_result"
    }
   ],
   "source": [
    "x.dtype"
   ]
  },
  {
   "cell_type": "code",
   "execution_count": 15,
   "id": "b6697a13",
   "metadata": {},
   "outputs": [
    {
     "name": "stdout",
     "output_type": "stream",
     "text": [
      "int32\n"
     ]
    }
   ],
   "source": [
    "print(y.dtype)"
   ]
  },
  {
   "cell_type": "markdown",
   "id": "44c1c0a9",
   "metadata": {},
   "source": [
    "##### Indexing & Slicing"
   ]
  },
  {
   "cell_type": "code",
   "execution_count": 16,
   "id": "6facfd59",
   "metadata": {},
   "outputs": [
    {
     "data": {
      "text/plain": [
       "array([[ 1,  2,  3,  4,  5],\n",
       "       [ 6,  7,  8,  9, 10],\n",
       "       [11, 12, 13, 14, 15]])"
      ]
     },
     "execution_count": 16,
     "metadata": {},
     "output_type": "execute_result"
    }
   ],
   "source": [
    "y[0]"
   ]
  },
  {
   "cell_type": "code",
   "execution_count": 20,
   "id": "107d50e5",
   "metadata": {},
   "outputs": [
    {
     "data": {
      "text/plain": [
       "array([[[ 1,  2,  3,  4,  5],\n",
       "        [ 6,  7,  8,  9, 10],\n",
       "        [11, 12, 13, 14, 15]],\n",
       "\n",
       "       [[16, 17, 18, 19, 20],\n",
       "        [21, 22, 23, 24, 25],\n",
       "        [26, 27, 28, 29, 30]]])"
      ]
     },
     "execution_count": 20,
     "metadata": {},
     "output_type": "execute_result"
    }
   ],
   "source": [
    "y[0: 2]"
   ]
  },
  {
   "cell_type": "code",
   "execution_count": 21,
   "id": "feed15f2",
   "metadata": {},
   "outputs": [
    {
     "data": {
      "text/plain": [
       "1"
      ]
     },
     "execution_count": 21,
     "metadata": {},
     "output_type": "execute_result"
    }
   ],
   "source": [
    "y[0][0][0]"
   ]
  },
  {
   "cell_type": "markdown",
   "id": "20feaeb4",
   "metadata": {},
   "source": [
    "### Update"
   ]
  },
  {
   "cell_type": "markdown",
   "id": "bfa0b815",
   "metadata": {},
   "source": [
    "##### Arithmetic\n"
   ]
  },
  {
   "cell_type": "code",
   "execution_count": 22,
   "id": "9cdc090a",
   "metadata": {},
   "outputs": [],
   "source": [
    "add = np.add(x, y)\n",
    "sub = np.subtract(x, y)\n",
    "div = np.divide(x, y)\n",
    "mult = np.multiply(x, y)"
   ]
  },
  {
   "cell_type": "code",
   "execution_count": 26,
   "id": "c158073e",
   "metadata": {},
   "outputs": [
    {
     "data": {
      "text/plain": [
       "array([[[ 0.96569938,  0.09785197,  0.28429009,  2.63758947,\n",
       "          0.56124196],\n",
       "        [ 0.73525734,  6.97784074,  6.96390989,  6.75099079,\n",
       "          8.55764559],\n",
       "        [ 0.27927661,  6.59874838,  4.633062  ,  7.26360835,\n",
       "          7.8481526 ]],\n",
       "\n",
       "       [[13.84375954,  2.46353322,  9.40930996, 17.65954422,\n",
       "         12.30133262],\n",
       "        [ 4.21828896, 19.75922905,  1.60078306, 10.94277357,\n",
       "         17.89459775],\n",
       "        [11.42985421,  3.18432449,  3.37031325, 15.27906639,\n",
       "         21.11086688]],\n",
       "\n",
       "       [[16.76314295,  3.17368381, 13.82841327, 18.61260627,\n",
       "         32.61606926],\n",
       "        [14.10580009, 16.66696332, 32.61233119,  4.70091406,\n",
       "         13.03739945],\n",
       "        [20.05958051,  8.0926359 ,  7.16501413, 11.76374352,\n",
       "          8.30316425]]])"
      ]
     },
     "execution_count": 26,
     "metadata": {},
     "output_type": "execute_result"
    }
   ],
   "source": [
    "mult"
   ]
  },
  {
   "cell_type": "markdown",
   "id": "55ddde84",
   "metadata": {},
   "source": [
    "##### Conversion\n"
   ]
  },
  {
   "cell_type": "code",
   "execution_count": 27,
   "id": "e42a360b",
   "metadata": {},
   "outputs": [
    {
     "data": {
      "text/plain": [
       "array([[[[0.96569938, 0.04892599, 0.09476336, 0.65939737, 0.11224839],\n",
       "         [0.12254289, 0.99683439, 0.87048874, 0.75011009, 0.85576456],\n",
       "         [0.02538878, 0.5498957 , 0.35638938, 0.51882917, 0.52321017]],\n",
       "\n",
       "        [[0.86523497, 0.14491372, 0.52273944, 0.9294497 , 0.61506663],\n",
       "         [0.2008709 , 0.89814678, 0.06959926, 0.4559489 , 0.71578391],\n",
       "         [0.43960978, 0.11793794, 0.12036833, 0.52686436, 0.70369556]],\n",
       "\n",
       "        [[0.54074655, 0.09917762, 0.41904283, 0.5474296 , 0.93188769],\n",
       "         [0.39182778, 0.45045847, 0.85821924, 0.12053626, 0.32593499],\n",
       "         [0.48925806, 0.19268181, 0.16662824, 0.26735781, 0.18451476]]]])"
      ]
     },
     "execution_count": 27,
     "metadata": {},
     "output_type": "execute_result"
    }
   ],
   "source": [
    "x1 = x[np.newaxis,:]\n",
    "\n",
    "x1"
   ]
  },
  {
   "cell_type": "markdown",
   "id": "262744da",
   "metadata": {},
   "source": [
    "##### Operators in array\n"
   ]
  },
  {
   "cell_type": "code",
   "execution_count": 29,
   "id": "7ce565b6",
   "metadata": {},
   "outputs": [
    {
     "data": {
      "text/plain": [
       "array([[[ 1,  3,  5,  7,  9],\n",
       "        [ 6,  8, 10, 12, 14],\n",
       "        [11, 13, 15, 17, 19]],\n",
       "\n",
       "       [[16, 18, 20, 22, 24],\n",
       "        [21, 23, 25, 27, 29],\n",
       "        [26, 28, 30, 32, 34]],\n",
       "\n",
       "       [[31, 33, 35, 37, 39],\n",
       "        [36, 38, 40, 42, 44],\n",
       "        [41, 43, 45, 47, 49]]])"
      ]
     },
     "execution_count": 29,
     "metadata": {},
     "output_type": "execute_result"
    }
   ],
   "source": [
    "y + e"
   ]
  },
  {
   "cell_type": "code",
   "execution_count": 30,
   "id": "03b63b42",
   "metadata": {},
   "outputs": [
    {
     "data": {
      "text/plain": [
       "array([[[ 0.43220138,  0.86440277,  1.29660415,  1.72880553,\n",
       "          2.16100692],\n",
       "        [ 2.5932083 ,  3.02540969,  3.45761107,  3.88981245,\n",
       "          4.32201384],\n",
       "        [ 4.75421522,  5.1864166 ,  5.61861799,  6.05081937,\n",
       "          6.48302075]],\n",
       "\n",
       "       [[ 6.91522214,  7.34742352,  7.77962491,  8.21182629,\n",
       "          8.64402767],\n",
       "        [ 9.07622906,  9.50843044,  9.94063182, 10.37283321,\n",
       "         10.80503459],\n",
       "        [11.23723598, 11.66943736, 12.10163874, 12.53384013,\n",
       "         12.96604151]],\n",
       "\n",
       "       [[13.39824289, 13.83044428, 14.26264566, 14.69484704,\n",
       "         15.12704843],\n",
       "        [15.55924981, 15.9914512 , 16.42365258, 16.85585396,\n",
       "         17.28805535],\n",
       "        [17.72025673, 18.15245811, 18.5846595 , 19.01686088,\n",
       "         19.44906226]]])"
      ]
     },
     "execution_count": 30,
     "metadata": {},
     "output_type": "execute_result"
    }
   ],
   "source": [
    "y * a"
   ]
  },
  {
   "cell_type": "code",
   "execution_count": 31,
   "id": "dac91ec1",
   "metadata": {},
   "outputs": [
    {
     "data": {
      "text/plain": [
       "array([[[  1.03551894,  40.87807229,  31.6578037 ,   6.06614494,\n",
       "          44.54406762],\n",
       "        [ 48.96244914,   7.02222963,   9.19023954,  11.99823886,\n",
       "          11.68545705],\n",
       "        [433.26219916,  21.8223202 ,  36.47695631,  26.98383374,\n",
       "          28.66916733]],\n",
       "\n",
       "       [[ 18.49208657, 117.31118467,  34.43398096,  20.44220368,\n",
       "          32.51680224],\n",
       "        [104.54475825,  24.49488281, 330.46326676,  52.63747772,\n",
       "          34.92674206],\n",
       "        [ 59.14336155, 228.93395497, 232.61932732,  55.04263013,\n",
       "          42.63207214]],\n",
       "\n",
       "       [[ 57.32815159, 322.6534403 ,  78.75090066,  62.10844324,\n",
       "          37.55817386],\n",
       "        [ 91.87709962,  82.13853799,  44.27773015, 323.55409595,\n",
       "         122.72386114],\n",
       "        [ 83.80035661, 217.97595026, 258.05950513, 164.57346228,\n",
       "         243.88292685]]])"
      ]
     },
     "execution_count": 31,
     "metadata": {},
     "output_type": "execute_result"
    }
   ],
   "source": [
    "y/x\n"
   ]
  },
  {
   "cell_type": "code",
   "execution_count": 32,
   "id": "2aee76bf",
   "metadata": {},
   "outputs": [
    {
     "data": {
      "text/plain": [
       "1035"
      ]
     },
     "execution_count": 32,
     "metadata": {},
     "output_type": "execute_result"
    }
   ],
   "source": [
    "y.sum()"
   ]
  },
  {
   "cell_type": "code",
   "execution_count": 33,
   "id": "905d22dd",
   "metadata": {},
   "outputs": [
    {
     "data": {
      "text/plain": [
       "1"
      ]
     },
     "execution_count": 33,
     "metadata": {},
     "output_type": "execute_result"
    }
   ],
   "source": [
    "y.min()"
   ]
  },
  {
   "cell_type": "code",
   "execution_count": 34,
   "id": "8008ca1c",
   "metadata": {},
   "outputs": [
    {
     "data": {
      "text/plain": [
       "45"
      ]
     },
     "execution_count": 34,
     "metadata": {},
     "output_type": "execute_result"
    }
   ],
   "source": [
    "y.max()"
   ]
  },
  {
   "cell_type": "markdown",
   "id": "11573859",
   "metadata": {},
   "source": [
    "##### Unique Values\n"
   ]
  },
  {
   "cell_type": "code",
   "execution_count": 35,
   "id": "0fc95df8",
   "metadata": {},
   "outputs": [
    {
     "data": {
      "text/plain": [
       "array([0.02538878, 0.04892599, 0.06959926, 0.09476336, 0.09917762,\n",
       "       0.11224839, 0.11793794, 0.12036833, 0.12053626, 0.12254289,\n",
       "       0.14491372, 0.16662824, 0.18451476, 0.19268181, 0.2008709 ,\n",
       "       0.26735781, 0.32593499, 0.35638938, 0.39182778, 0.41904283,\n",
       "       0.43960978, 0.45045847, 0.4559489 , 0.48925806, 0.51882917,\n",
       "       0.52273944, 0.52321017, 0.52686436, 0.54074655, 0.5474296 ,\n",
       "       0.5498957 , 0.61506663, 0.65939737, 0.70369556, 0.71578391,\n",
       "       0.75011009, 0.85576456, 0.85821924, 0.86523497, 0.87048874,\n",
       "       0.89814678, 0.9294497 , 0.93188769, 0.96569938, 0.99683439])"
      ]
     },
     "execution_count": 35,
     "metadata": {},
     "output_type": "execute_result"
    }
   ],
   "source": [
    "np.unique (x)"
   ]
  },
  {
   "cell_type": "code",
   "execution_count": 36,
   "id": "f8c209e4",
   "metadata": {},
   "outputs": [
    {
     "data": {
      "text/plain": [
       "array([ 1,  2,  3,  4,  5,  6,  7,  8,  9, 10, 11, 12, 13, 14, 15, 16, 17,\n",
       "       18, 19, 20, 21, 22, 23, 24, 25, 26, 27, 28, 29, 30, 31, 32, 33, 34,\n",
       "       35, 36, 37, 38, 39, 40, 41, 42, 43, 44, 45])"
      ]
     },
     "execution_count": 36,
     "metadata": {},
     "output_type": "execute_result"
    }
   ],
   "source": [
    "np.unique(y)"
   ]
  },
  {
   "cell_type": "code",
   "execution_count": 37,
   "id": "29dc3e97",
   "metadata": {},
   "outputs": [
    {
     "data": {
      "text/plain": [
       "array([0])"
      ]
     },
     "execution_count": 37,
     "metadata": {},
     "output_type": "execute_result"
    }
   ],
   "source": [
    "np.unique(b)"
   ]
  },
  {
   "cell_type": "markdown",
   "id": "983737dc",
   "metadata": {},
   "source": [
    "### Delete"
   ]
  },
  {
   "cell_type": "code",
   "execution_count": 38,
   "id": "07ce888a",
   "metadata": {},
   "outputs": [
    {
     "data": {
      "text/plain": [
       "array([[[0.12254289, 0.99683439, 0.87048874, 0.75011009, 0.85576456],\n",
       "        [0.02538878, 0.5498957 , 0.35638938, 0.51882917, 0.52321017]],\n",
       "\n",
       "       [[0.2008709 , 0.89814678, 0.06959926, 0.4559489 , 0.71578391],\n",
       "        [0.43960978, 0.11793794, 0.12036833, 0.52686436, 0.70369556]],\n",
       "\n",
       "       [[0.39182778, 0.45045847, 0.85821924, 0.12053626, 0.32593499],\n",
       "        [0.48925806, 0.19268181, 0.16662824, 0.26735781, 0.18451476]]])"
      ]
     },
     "execution_count": 38,
     "metadata": {},
     "output_type": "execute_result"
    }
   ],
   "source": [
    "np.delete(x,0,axis=1)"
   ]
  },
  {
   "cell_type": "code",
   "execution_count": 40,
   "id": "3e795008",
   "metadata": {},
   "outputs": [
    {
     "data": {
      "text/plain": [
       "array([[[0.96569938, 0.04892599, 0.09476336, 0.65939737, 0.11224839],\n",
       "        [0.12254289, 0.99683439, 0.87048874, 0.75011009, 0.85576456],\n",
       "        [0.02538878, 0.5498957 , 0.35638938, 0.51882917, 0.52321017]],\n",
       "\n",
       "       [[0.86523497, 0.14491372, 0.52273944, 0.9294497 , 0.61506663],\n",
       "        [0.2008709 , 0.89814678, 0.06959926, 0.4559489 , 0.71578391],\n",
       "        [0.43960978, 0.11793794, 0.12036833, 0.52686436, 0.70369556]],\n",
       "\n",
       "       [[0.54074655, 0.09917762, 0.41904283, 0.5474296 , 0.93188769],\n",
       "        [0.39182778, 0.45045847, 0.85821924, 0.12053626, 0.32593499],\n",
       "        [0.48925806, 0.19268181, 0.16662824, 0.26735781, 0.18451476]]])"
      ]
     },
     "execution_count": 40,
     "metadata": {},
     "output_type": "execute_result"
    }
   ],
   "source": [
    "x"
   ]
  },
  {
   "cell_type": "code",
   "execution_count": 42,
   "id": "717f1b6e",
   "metadata": {},
   "outputs": [
    {
     "data": {
      "text/plain": [
       "array([[[ 2,  3,  4,  5],\n",
       "        [ 7,  8,  9, 10],\n",
       "        [12, 13, 14, 15]],\n",
       "\n",
       "       [[17, 18, 19, 20],\n",
       "        [22, 23, 24, 25],\n",
       "        [27, 28, 29, 30]],\n",
       "\n",
       "       [[32, 33, 34, 35],\n",
       "        [37, 38, 39, 40],\n",
       "        [42, 43, 44, 45]]])"
      ]
     },
     "execution_count": 42,
     "metadata": {},
     "output_type": "execute_result"
    }
   ],
   "source": [
    "np.delete(y,0,axis=2)"
   ]
  },
  {
   "cell_type": "code",
   "execution_count": 43,
   "id": "31341ce0",
   "metadata": {},
   "outputs": [
    {
     "data": {
      "text/plain": [
       "array([[[ 1,  2,  3,  4,  5],\n",
       "        [ 6,  7,  8,  9, 10],\n",
       "        [11, 12, 13, 14, 15]],\n",
       "\n",
       "       [[16, 17, 18, 19, 20],\n",
       "        [21, 22, 23, 24, 25],\n",
       "        [26, 27, 28, 29, 30]],\n",
       "\n",
       "       [[31, 32, 33, 34, 35],\n",
       "        [36, 37, 38, 39, 40],\n",
       "        [41, 42, 43, 44, 45]]])"
      ]
     },
     "execution_count": 43,
     "metadata": {},
     "output_type": "execute_result"
    }
   ],
   "source": [
    "y"
   ]
  },
  {
   "cell_type": "markdown",
   "id": "fa20c719",
   "metadata": {},
   "source": [
    "--- END ---"
   ]
  },
  {
   "cell_type": "code",
   "execution_count": null,
   "id": "e99c5820",
   "metadata": {},
   "outputs": [],
   "source": []
  }
 ],
 "metadata": {
  "kernelspec": {
   "display_name": "Python 3 (ipykernel)",
   "language": "python",
   "name": "python3"
  },
  "language_info": {
   "codemirror_mode": {
    "name": "ipython",
    "version": 3
   },
   "file_extension": ".py",
   "mimetype": "text/x-python",
   "name": "python",
   "nbconvert_exporter": "python",
   "pygments_lexer": "ipython3",
   "version": "3.11.7"
  }
 },
 "nbformat": 4,
 "nbformat_minor": 5
}
